{
 "cells": [
  {
   "cell_type": "markdown",
   "metadata": {
    "collapsed": false
   },
   "source": [
    "#SD204  TP SVD-PCA"
   ]
  },
  {
   "cell_type": "markdown",
   "metadata": {},
   "source": [
    "###Exercice 1. Retour sur l’algèbre linéaire"
   ]
  },
  {
   "cell_type": "markdown",
   "metadata": {},
   "source": [
    "####Question (1)"
   ]
  },
  {
   "cell_type": "code",
   "execution_count": 19,
   "metadata": {
    "collapsed": true
   },
   "outputs": [],
   "source": [
    "import numpy as np\n",
    "mu, sigma= 0, 2\n",
    "lam = 1e-5"
   ]
  },
  {
   "cell_type": "code",
   "execution_count": 20,
   "metadata": {
    "collapsed": false
   },
   "outputs": [
    {
     "name": "stdout",
     "output_type": "stream",
     "text": [
      "True\n"
     ]
    }
   ],
   "source": [
    "#(a)\n",
    "n, p = 100,2000\n",
    "X = sigma * np.random.randn(n,p) + mu  # X\n",
    "y = np.random.uniform(-1,1,n)          # y\n",
    "Id_n = np.identity(n)                  # Id_n\n",
    "Id_p = np.identity(p)                  # Id_p \n",
    "#c = np.add(a,b)\n",
    "#c = np.dot(a,b)\n",
    "#X_T = X.transpose()                    # X_T\n",
    "#X_i = np.linalg.solve(X,Id_n)          # X_-1\n",
    "left = np.dot(X.T,np.linalg.solve(np.add(np.dot(X,X.T),np.dot(lam,Id_n)),y))\n",
    "right = np.linalg.solve(np.add(np.dot(X.T,X),np.dot(lam,Id_p)),np.dot(X.T,y)) \n",
    "result = np.allclose(left,right)\n",
    "print result"
   ]
  },
  {
   "cell_type": "code",
   "execution_count": 21,
   "metadata": {
    "collapsed": false
   },
   "outputs": [
    {
     "name": "stdout",
     "output_type": "stream",
     "text": [
      "False\n"
     ]
    }
   ],
   "source": [
    "#(b)\n",
    "n, p = 2000,100\n",
    "X = sigma * np.random.randn(n,p) + mu  # X\n",
    "y = np.random.uniform(-1,1,n)          # y\n",
    "Id_n = np.identity(n)                  # Id_n\n",
    "Id_p = np.identity(p)                  # Id_p \n",
    "left = np.dot(X.T,np.linalg.solve(np.add(np.dot(X,X.T),np.dot(lam,Id_n)),y))\n",
    "right = np.linalg.solve(np.add(np.dot(X.T,X),np.dot(lam,Id_p)),np.dot(X.T,y)) \n",
    "result = np.allclose(left,right)\n",
    "print result"
   ]
  },
  {
   "cell_type": "code",
   "execution_count": null,
   "metadata": {
    "collapsed": true
   },
   "outputs": [],
   "source": []
  }
 ],
 "metadata": {
  "kernelspec": {
   "display_name": "Python 2",
   "language": "python",
   "name": "python2"
  },
  "language_info": {
   "codemirror_mode": {
    "name": "ipython",
    "version": 2
   },
   "file_extension": ".py",
   "mimetype": "text/x-python",
   "name": "python",
   "nbconvert_exporter": "python",
   "pygments_lexer": "ipython2",
   "version": "2.7.12"
  }
 },
 "nbformat": 4,
 "nbformat_minor": 0
}
