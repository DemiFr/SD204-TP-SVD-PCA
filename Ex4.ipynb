{
 "cells": [
  {
   "cell_type": "markdown",
   "metadata": {},
   "source": [
    "####(10)(11)"
   ]
  },
  {
   "cell_type": "code",
   "execution_count": 3,
   "metadata": {
    "collapsed": false
   },
   "outputs": [
    {
     "name": "stderr",
     "output_type": "stream",
     "text": [
      "F:\\Programming\\Python\\Anaconda2\\lib\\site-packages\\sklearn\\utils\\validation.py:420: DataConversionWarning: Data with input dtype int64 was converted to float64 by StandardScaler.\n",
      "  warnings.warn(msg, DataConversionWarning)\n",
      "F:\\Programming\\Python\\Anaconda2\\lib\\site-packages\\sklearn\\utils\\validation.py:420: DataConversionWarning: Data with input dtype int64 was converted to float64 by StandardScaler.\n",
      "  warnings.warn(msg, DataConversionWarning)\n"
     ]
    },
    {
     "data": {
      "text/html": [
       "<div>\n",
       "<table border=\"1\" class=\"dataframe\">\n",
       "  <thead>\n",
       "    <tr style=\"text-align: right;\">\n",
       "      <th></th>\n",
       "      <th>Unnamed: 0</th>\n",
       "      <th>England</th>\n",
       "      <th>Wales</th>\n",
       "      <th>Scotland</th>\n",
       "      <th>N Ireland</th>\n",
       "    </tr>\n",
       "  </thead>\n",
       "  <tbody>\n",
       "    <tr>\n",
       "      <th>0</th>\n",
       "      <td>Cheese</td>\n",
       "      <td>105</td>\n",
       "      <td>103</td>\n",
       "      <td>103</td>\n",
       "      <td>66</td>\n",
       "    </tr>\n",
       "    <tr>\n",
       "      <th>1</th>\n",
       "      <td>Carcass meat</td>\n",
       "      <td>245</td>\n",
       "      <td>227</td>\n",
       "      <td>242</td>\n",
       "      <td>267</td>\n",
       "    </tr>\n",
       "    <tr>\n",
       "      <th>2</th>\n",
       "      <td>Other meat</td>\n",
       "      <td>685</td>\n",
       "      <td>803</td>\n",
       "      <td>750</td>\n",
       "      <td>586</td>\n",
       "    </tr>\n",
       "    <tr>\n",
       "      <th>3</th>\n",
       "      <td>Fish</td>\n",
       "      <td>147</td>\n",
       "      <td>160</td>\n",
       "      <td>122</td>\n",
       "      <td>93</td>\n",
       "    </tr>\n",
       "    <tr>\n",
       "      <th>4</th>\n",
       "      <td>Fats and oils</td>\n",
       "      <td>193</td>\n",
       "      <td>235</td>\n",
       "      <td>184</td>\n",
       "      <td>209</td>\n",
       "    </tr>\n",
       "    <tr>\n",
       "      <th>5</th>\n",
       "      <td>Sugars</td>\n",
       "      <td>156</td>\n",
       "      <td>175</td>\n",
       "      <td>147</td>\n",
       "      <td>139</td>\n",
       "    </tr>\n",
       "    <tr>\n",
       "      <th>6</th>\n",
       "      <td>Fresh potatoes</td>\n",
       "      <td>720</td>\n",
       "      <td>874</td>\n",
       "      <td>566</td>\n",
       "      <td>1033</td>\n",
       "    </tr>\n",
       "    <tr>\n",
       "      <th>7</th>\n",
       "      <td>Fresh Veg</td>\n",
       "      <td>253</td>\n",
       "      <td>265</td>\n",
       "      <td>171</td>\n",
       "      <td>143</td>\n",
       "    </tr>\n",
       "    <tr>\n",
       "      <th>8</th>\n",
       "      <td>Other Veg</td>\n",
       "      <td>488</td>\n",
       "      <td>570</td>\n",
       "      <td>418</td>\n",
       "      <td>355</td>\n",
       "    </tr>\n",
       "    <tr>\n",
       "      <th>9</th>\n",
       "      <td>Processed potatoes</td>\n",
       "      <td>198</td>\n",
       "      <td>203</td>\n",
       "      <td>220</td>\n",
       "      <td>187</td>\n",
       "    </tr>\n",
       "    <tr>\n",
       "      <th>10</th>\n",
       "      <td>Processed Veg</td>\n",
       "      <td>360</td>\n",
       "      <td>365</td>\n",
       "      <td>337</td>\n",
       "      <td>334</td>\n",
       "    </tr>\n",
       "    <tr>\n",
       "      <th>11</th>\n",
       "      <td>Fresh fruit</td>\n",
       "      <td>1102</td>\n",
       "      <td>1137</td>\n",
       "      <td>957</td>\n",
       "      <td>674</td>\n",
       "    </tr>\n",
       "    <tr>\n",
       "      <th>12</th>\n",
       "      <td>Cereals</td>\n",
       "      <td>1472</td>\n",
       "      <td>1582</td>\n",
       "      <td>1462</td>\n",
       "      <td>1494</td>\n",
       "    </tr>\n",
       "    <tr>\n",
       "      <th>13</th>\n",
       "      <td>Beverages</td>\n",
       "      <td>57</td>\n",
       "      <td>73</td>\n",
       "      <td>53</td>\n",
       "      <td>47</td>\n",
       "    </tr>\n",
       "    <tr>\n",
       "      <th>14</th>\n",
       "      <td>Soft drinks</td>\n",
       "      <td>1374</td>\n",
       "      <td>1256</td>\n",
       "      <td>1572</td>\n",
       "      <td>1506</td>\n",
       "    </tr>\n",
       "    <tr>\n",
       "      <th>15</th>\n",
       "      <td>Alcoholic drinks</td>\n",
       "      <td>375</td>\n",
       "      <td>475</td>\n",
       "      <td>458</td>\n",
       "      <td>135</td>\n",
       "    </tr>\n",
       "    <tr>\n",
       "      <th>16</th>\n",
       "      <td>Confectionery</td>\n",
       "      <td>54</td>\n",
       "      <td>64</td>\n",
       "      <td>62</td>\n",
       "      <td>41</td>\n",
       "    </tr>\n",
       "  </tbody>\n",
       "</table>\n",
       "</div>"
      ],
      "text/plain": [
       "            Unnamed: 0  England  Wales  Scotland  N Ireland\n",
       "0               Cheese      105    103       103         66\n",
       "1         Carcass meat      245    227       242        267\n",
       "2           Other meat      685    803       750        586\n",
       "3                 Fish      147    160       122         93\n",
       "4        Fats and oils      193    235       184        209\n",
       "5               Sugars      156    175       147        139\n",
       "6       Fresh potatoes      720    874       566       1033\n",
       "7            Fresh Veg      253    265       171        143\n",
       "8            Other Veg      488    570       418        355\n",
       "9   Processed potatoes      198    203       220        187\n",
       "10       Processed Veg      360    365       337        334\n",
       "11         Fresh fruit     1102   1137       957        674\n",
       "12             Cereals     1472   1582      1462       1494\n",
       "13           Beverages       57     73        53         47\n",
       "14         Soft drinks     1374   1256      1572       1506\n",
       "15    Alcoholic drinks      375    475       458        135\n",
       "16       Confectionery       54     64        62         41"
      ]
     },
     "metadata": {},
     "output_type": "display_data"
    },
    {
     "data": {
      "text/plain": [
       "\"\\nplt.figure()\\nplt.scatter(X[:, 0], X[:, 1], s=50, alpha=1)  #s: size of points\\nplt.show()\\n\\nfrom mpl_toolkits.mplot3d import Axes3D\\nfig = plt.figure(figsize=(8,8))\\nax = plt.axes(projection='3d')\\nax.scatter(X[:, 0], X[:, 1], X[:, 2], s = 50, alpha = 0.7)\\nax.set_xlabel('England')\\nax.set_ylabel('Wales')\\nax.set_zlabel('Scotland')\\nplt.show()\\n\""
      ]
     },
     "execution_count": 3,
     "metadata": {},
     "output_type": "execute_result"
    }
   ],
   "source": [
    "import numpy as np\n",
    "import pandas as pd\n",
    "from sklearn import preprocessing\n",
    "from IPython.display import display\n",
    "from matplotlib.figure import Figure\n",
    "import matplotlib.pyplot as plt\n",
    "%matplotlib inline\n",
    "\n",
    "# (10)\n",
    "df = pd.read_csv('defraconsumption.csv',sep = \";\")\n",
    "\n",
    "# (11)\n",
    "X_row = df.as_matrix(columns = df.columns[1:])\n",
    "#print X\n",
    "'''\n",
    "X_scaled = preprocessing.scale(X)\n",
    "print X_scaled\n",
    "'''\n",
    "scaler = preprocessing.StandardScaler(with_mean=True, with_std=True).fit(X_row)\n",
    "X = scaler.transform(X_row)\n",
    "display(df)\n",
    "'''\n",
    "plt.figure()\n",
    "plt.scatter(X[:, 0], X[:, 1], s=50, alpha=1)  #s: size of points\n",
    "plt.show()\n",
    "\n",
    "from mpl_toolkits.mplot3d import Axes3D\n",
    "fig = plt.figure(figsize=(8,8))\n",
    "ax = plt.axes(projection='3d')\n",
    "ax.scatter(X[:, 0], X[:, 1], X[:, 2], s = 50, alpha = 0.7)\n",
    "ax.set_xlabel('England')\n",
    "ax.set_ylabel('Wales')\n",
    "ax.set_zlabel('Scotland')\n",
    "plt.show()\n",
    "'''"
   ]
  },
  {
   "cell_type": "code",
   "execution_count": 28,
   "metadata": {
    "collapsed": false
   },
   "outputs": [
    {
     "data": {
      "image/png": "[encoded data removed]",
      "text/plain": [
       "<matplotlib.figure.Figure at 0xb998f98>"
      ]
     },
     "metadata": {},
     "output_type": "display_data"
    },
    {
     "name": "stdout",
     "output_type": "stream",
     "text": [
      "[[-1.64387422  0.03813   ]\n",
      " [-0.9792373   0.15958186]\n",
      " [ 1.0645533  -0.21917462]\n",
      " [-1.48261467  0.00875623]\n",
      " [-1.15527867  0.1074057 ]\n",
      " [-1.37940507  0.06478938]\n",
      " [ 1.45440669  0.62921477]\n",
      " [-1.13694557 -0.07002631]\n",
      " [-0.03102173 -0.18059074]\n",
      " [-1.16885461  0.06968157]\n",
      " [-0.51789417  0.05855351]\n",
      " [ 2.23701103 -0.67834847]\n",
      " [ 4.58101272  0.02224513]\n",
      " [-1.80758847  0.08109728]\n",
      " [ 4.23881128  0.30072904]\n",
      " [-0.45556594 -0.46623859]\n",
      " [-1.8175146   0.07419429]]\n"
     ]
    }
   ],
   "source": [
    "from sklearn.decomposition import PCA\n",
    "\n",
    "pca = PCA(n_components = 2, copy = True)\n",
    "pca.fit(X)\n",
    "X_pca = pca.transform(X)\n",
    "plt.figure()\n",
    "plt.scatter(X_pca[:, 0], X_pca[:, 1], s=50, alpha=0.7)  #s: size of points\n",
    "plt.show()\n",
    "print X_pca"
   ]
  },
  {
   "cell_type": "code",
   "execution_count": 11,
   "metadata": {
    "collapsed": false
   },
   "outputs": [
    {
     "data": {
      "image/png": "[encoded data removed]",
      "text/plain": [
       "<matplotlib.figure.Figure at 0xbc10278>"
      ]
     },
     "metadata": {},
     "output_type": "display_data"
    }
   ],
   "source": [
    "from mpl_toolkits.mplot3d import Axes3D\n",
    "\n",
    "pca = PCA(n_components = 3, copy = True)\n",
    "pca.fit(X)\n",
    "X_pca = pca.transform(X)\n",
    "fig = plt.figure()\n",
    "ax = plt.axes(projection='3d')\n",
    "ax.scatter(X_pca[:, 0], X_pca[:, 1], X_pca[:, 2], s = 50, alpha = 0.7)\n",
    "plt.show()"
   ]
  },
  {
   "cell_type": "code",
   "execution_count": 24,
   "metadata": {
    "collapsed": false
   },
   "outputs": [
    {
     "name": "stdout",
     "output_type": "stream",
     "text": [
      "[[ 17.          16.84112428  16.74359627  16.10953096]\n",
      " [ 16.84112428  17.          16.39006584  15.93003321]\n",
      " [ 16.74359627  16.39006584  17.          15.9926114 ]\n",
      " [ 16.10953096  15.93003321  15.9926114   17.        ]]\n",
      "[[  6.60091099e+01   3.71924713e-15   7.10542736e-15  -3.55271368e-15]\n",
      " [  1.74082753e-14   6.66882852e-02   1.02045108e-15  -4.96401965e-16]\n",
      " [ -7.10542736e-15   1.03042574e-15   1.31302950e+00   6.93889390e-17]\n",
      " [ -2.58092159e-14   3.57960189e-15  -2.50494070e-15   6.11172331e-01]]\n",
      "[(66.009109885239269, array([ 0.50526231,  0.50123046,  0.50094821,  0.49247225])), (1.3130294984639448, array([-0.27858192, -0.34368879, -0.22784545,  0.86738491])), (0.61117233111597502, array([-0.06276508, -0.63456169,  0.76712452, -0.07008552])), (0.066688285180832363, array([ 0.814348  , -0.4774699 , -0.32963209, -0.01423082]))]\n"
     ]
    },
    {
     "data": {
      "image/png": "[encoded data removed]",
      "text/plain": [
       "<matplotlib.figure.Figure at 0xc179320>"
      ]
     },
     "metadata": {},
     "output_type": "display_data"
    }
   ],
   "source": [
    "# (a)\n",
    "X_cov = np.dot(X.T, X)\n",
    "#print X_cov\n",
    "eig_val, eig_vec = np.linalg.eig(X_cov)\n",
    "# diagolize\n",
    "# 对角化后的结果，应该为0的位置很接近但不是0，怎么解决？\n",
    "diag = np.dot(np.dot(np.linalg.inv(eig_vec),X_cov),eig_vec)\n",
    "#print diag\n",
    "# \n",
    "eig_pairs = [(np.abs(eig_val[i]), eig_vec[:,i]) for i in range(X.shape[1])]\n",
    "# Sort eig_vec based on eig_val from highest to lowest\n",
    "eig_pairs.sort(reverse=True)\n",
    "#print eig_pairs\n",
    "# Select k eig_val as the principle components \n",
    "k = 2\n",
    "component = np.array([ele[1] for ele in eig_pairs[:k]])\n",
    "X_new = np.dot(X, component.T)\n",
    "plt.figure()\n",
    "plt.scatter(X_new[:, 0], X_new[:, 1], s=50, alpha=0.7)  \n",
    "plt.show()"
   ]
  },
  {
   "cell_type": "code",
   "execution_count": 37,
   "metadata": {
    "collapsed": false
   },
   "outputs": [
    {
     "name": "stdout",
     "output_type": "stream",
     "text": [
      "[[-0.85710901 -0.23428967]\n",
      " [-0.40207895 -0.18174278]\n",
      " [ 0.3755108   0.26093385]\n",
      " [-0.79423148 -0.23111466]\n",
      " [-0.57629654 -0.26850324]\n",
      " [-0.70925802 -0.24465322]\n",
      " [ 1.12834432 -0.46806465]\n",
      " [-0.64307601 -0.17335903]\n",
      " [-0.15668226 -0.01147747]\n",
      " [-0.58425599 -0.16565115]\n",
      " [-0.22492525 -0.09228107]\n",
      " [ 0.83092901  0.67983382]\n",
      " [ 2.48499494  0.62468387]\n",
      " [-0.93388153 -0.31631705]\n",
      " [ 2.61020785  0.90272724]\n",
      " [-0.60717556  0.21345313]\n",
      " [-0.94101634 -0.29417792]]\n",
      "[[-1.64387422  0.03813   ]\n",
      " [-0.9792373   0.15958186]\n",
      " [ 1.0645533  -0.21917462]\n",
      " [-1.48261467  0.00875623]\n",
      " [-1.15527867  0.1074057 ]\n",
      " [-1.37940507  0.06478938]\n",
      " [ 1.45440669  0.62921477]\n",
      " [-1.13694557 -0.07002631]\n",
      " [-0.03102173 -0.18059074]\n",
      " [-1.16885461  0.06968157]\n",
      " [-0.51789417  0.05855351]\n",
      " [ 2.23701103 -0.67834847]\n",
      " [ 4.58101272  0.02224513]\n",
      " [-1.80758847  0.08109728]\n",
      " [ 4.23881128  0.30072904]\n",
      " [-0.45556594 -0.46623859]\n",
      " [-1.8175146   0.07419429]]\n"
     ]
    },
    {
     "data": {
      "image/png": "[encoded data removed]",
      "text/plain": [
       "<matplotlib.figure.Figure at 0xd01cfd0>"
      ]
     },
     "metadata": {},
     "output_type": "display_data"
    },
    {
     "data": {
      "image/png": "[encoded data removed]",
      "text/plain": [
       "<matplotlib.figure.Figure at 0xd7b3278>"
      ]
     },
     "metadata": {},
     "output_type": "display_data"
    }
   ],
   "source": [
    "U,s,V = np.linalg.svd(X, full_matrices=1,compute_uv=1)\n",
    "k = 2\n",
    "U_k = np.array((U.T[:k]).T)\n",
    "s_k = np.zeros((k,k))\n",
    "for j in range(0,k):\n",
    "    s_k[j][j] = s[j]\n",
    "#s_k = np.array((s.T[:k]).T)\n",
    "V_k = np.array((V.T[:k]).T)\n",
    "re1 = np.dot(X,V_k)\n",
    "print re1\n",
    "re2 = np.dot(U_k,s_k)\n",
    "print re2\n",
    "plt.figure()\n",
    "plt.scatter(re1[:, 0], re1[:, 1], s=50, alpha=0.7)  \n",
    "plt.show()\n",
    "plt.figure()\n",
    "plt.scatter(re2[:, 0], re2[:, 1], s=50, alpha=0.7)  \n",
    "plt.show()"
   ]
  },
  {
   "cell_type": "markdown",
   "metadata": {
    "collapsed": true
   },
   "source": [
    "# Skills"
   ]
  },
  {
   "cell_type": "code",
   "execution_count": 6,
   "metadata": {
    "collapsed": false
   },
   "outputs": [
    {
     "name": "stdout",
     "output_type": "stream",
     "text": [
      "[ 105  245  685  147  193  156  720  253  488  198  360 1102 1472   57 1374\n",
      "  375   54]\n"
     ]
    },
    {
     "data": {
      "text/html": [
       "<div>\n",
       "<table border=\"1\" class=\"dataframe\">\n",
       "  <thead>\n",
       "    <tr style=\"text-align: right;\">\n",
       "      <th></th>\n",
       "      <th>Unnamed: 0</th>\n",
       "      <th>England</th>\n",
       "      <th>Wales</th>\n",
       "      <th>Scotland</th>\n",
       "      <th>N Ireland</th>\n",
       "    </tr>\n",
       "  </thead>\n",
       "  <tbody>\n",
       "    <tr>\n",
       "      <th>0</th>\n",
       "      <td>Cheese</td>\n",
       "      <td>105</td>\n",
       "      <td>103</td>\n",
       "      <td>103</td>\n",
       "      <td>66</td>\n",
       "    </tr>\n",
       "    <tr>\n",
       "      <th>1</th>\n",
       "      <td>Carcass meat</td>\n",
       "      <td>245</td>\n",
       "      <td>227</td>\n",
       "      <td>242</td>\n",
       "      <td>267</td>\n",
       "    </tr>\n",
       "    <tr>\n",
       "      <th>2</th>\n",
       "      <td>Other meat</td>\n",
       "      <td>685</td>\n",
       "      <td>803</td>\n",
       "      <td>750</td>\n",
       "      <td>586</td>\n",
       "    </tr>\n",
       "    <tr>\n",
       "      <th>3</th>\n",
       "      <td>Fish</td>\n",
       "      <td>147</td>\n",
       "      <td>160</td>\n",
       "      <td>122</td>\n",
       "      <td>93</td>\n",
       "    </tr>\n",
       "    <tr>\n",
       "      <th>4</th>\n",
       "      <td>Fats and oils</td>\n",
       "      <td>193</td>\n",
       "      <td>235</td>\n",
       "      <td>184</td>\n",
       "      <td>209</td>\n",
       "    </tr>\n",
       "    <tr>\n",
       "      <th>5</th>\n",
       "      <td>Sugars</td>\n",
       "      <td>156</td>\n",
       "      <td>175</td>\n",
       "      <td>147</td>\n",
       "      <td>139</td>\n",
       "    </tr>\n",
       "    <tr>\n",
       "      <th>6</th>\n",
       "      <td>Fresh potatoes</td>\n",
       "      <td>720</td>\n",
       "      <td>874</td>\n",
       "      <td>566</td>\n",
       "      <td>1033</td>\n",
       "    </tr>\n",
       "    <tr>\n",
       "      <th>7</th>\n",
       "      <td>Fresh Veg</td>\n",
       "      <td>253</td>\n",
       "      <td>265</td>\n",
       "      <td>171</td>\n",
       "      <td>143</td>\n",
       "    </tr>\n",
       "    <tr>\n",
       "      <th>8</th>\n",
       "      <td>Other Veg</td>\n",
       "      <td>488</td>\n",
       "      <td>570</td>\n",
       "      <td>418</td>\n",
       "      <td>355</td>\n",
       "    </tr>\n",
       "    <tr>\n",
       "      <th>9</th>\n",
       "      <td>Processed potatoes</td>\n",
       "      <td>198</td>\n",
       "      <td>203</td>\n",
       "      <td>220</td>\n",
       "      <td>187</td>\n",
       "    </tr>\n",
       "    <tr>\n",
       "      <th>10</th>\n",
       "      <td>Processed Veg</td>\n",
       "      <td>360</td>\n",
       "      <td>365</td>\n",
       "      <td>337</td>\n",
       "      <td>334</td>\n",
       "    </tr>\n",
       "    <tr>\n",
       "      <th>11</th>\n",
       "      <td>Fresh fruit</td>\n",
       "      <td>1102</td>\n",
       "      <td>1137</td>\n",
       "      <td>957</td>\n",
       "      <td>674</td>\n",
       "    </tr>\n",
       "    <tr>\n",
       "      <th>12</th>\n",
       "      <td>Cereals</td>\n",
       "      <td>1472</td>\n",
       "      <td>1582</td>\n",
       "      <td>1462</td>\n",
       "      <td>1494</td>\n",
       "    </tr>\n",
       "    <tr>\n",
       "      <th>13</th>\n",
       "      <td>Beverages</td>\n",
       "      <td>57</td>\n",
       "      <td>73</td>\n",
       "      <td>53</td>\n",
       "      <td>47</td>\n",
       "    </tr>\n",
       "    <tr>\n",
       "      <th>14</th>\n",
       "      <td>Soft drinks</td>\n",
       "      <td>1374</td>\n",
       "      <td>1256</td>\n",
       "      <td>1572</td>\n",
       "      <td>1506</td>\n",
       "    </tr>\n",
       "    <tr>\n",
       "      <th>15</th>\n",
       "      <td>Alcoholic drinks</td>\n",
       "      <td>375</td>\n",
       "      <td>475</td>\n",
       "      <td>458</td>\n",
       "      <td>135</td>\n",
       "    </tr>\n",
       "    <tr>\n",
       "      <th>16</th>\n",
       "      <td>Confectionery</td>\n",
       "      <td>54</td>\n",
       "      <td>64</td>\n",
       "      <td>62</td>\n",
       "      <td>41</td>\n",
       "    </tr>\n",
       "  </tbody>\n",
       "</table>\n",
       "</div>"
      ],
      "text/plain": [
       "            Unnamed: 0  England  Wales  Scotland  N Ireland\n",
       "0               Cheese      105    103       103         66\n",
       "1         Carcass meat      245    227       242        267\n",
       "2           Other meat      685    803       750        586\n",
       "3                 Fish      147    160       122         93\n",
       "4        Fats and oils      193    235       184        209\n",
       "5               Sugars      156    175       147        139\n",
       "6       Fresh potatoes      720    874       566       1033\n",
       "7            Fresh Veg      253    265       171        143\n",
       "8            Other Veg      488    570       418        355\n",
       "9   Processed potatoes      198    203       220        187\n",
       "10       Processed Veg      360    365       337        334\n",
       "11         Fresh fruit     1102   1137       957        674\n",
       "12             Cereals     1472   1582      1462       1494\n",
       "13           Beverages       57     73        53         47\n",
       "14         Soft drinks     1374   1256      1572       1506\n",
       "15    Alcoholic drinks      375    475       458        135\n",
       "16       Confectionery       54     64        62         41"
      ]
     },
     "execution_count": 6,
     "metadata": {},
     "output_type": "execute_result"
    }
   ],
   "source": [
    "print X[:, 0]  # The first column of X\n",
    "df"
   ]
  },
  {
   "cell_type": "markdown",
   "metadata": {},
   "source": [
    "### plot & subplot"
   ]
  },
  {
   "cell_type": "markdown",
   "metadata": {},
   "source": [
    "##### plot"
   ]
  },
  {
   "cell_type": "code",
   "execution_count": null,
   "metadata": {
    "collapsed": true
   },
   "outputs": [],
   "source": [
    "v = np.array([1, 3, 2, 4])\n",
    "x = np.array([0, 1, 2, 3])\n",
    "\n",
    "plt.figure()\n",
    "plt.plot(x,v, 'rv--', label='v(x)')\n",
    "plt.legend(loc='lower right')\n",
    "plt.xlabel('x')\n",
    "plt.ylabel('v')\n",
    "plt.title('Mon titre')\n",
    "plt.xlim([-1, 4])\n",
    "plt.ylim([0, 5])\n",
    "plt.show()\n",
    "plt.savefig('toto.png')"
   ]
  },
  {
   "cell_type": "markdown",
   "metadata": {},
   "source": [
    "##### subplot"
   ]
  },
  {
   "cell_type": "code",
   "execution_count": null,
   "metadata": {
    "collapsed": true
   },
   "outputs": [],
   "source": [
    "fig = plt.figure(0)\n",
    "sub1 = fig.add_subplot(121)\n",
    "sub1.scatter(X[:, 0], X[:, 1], s=98, alpha=1, c=my_orange, zorder=1)\n",
    "sub1.get_yaxis().set_ticks([])\n",
    "sub1.get_xaxis().set_ticks([])\n",
    "sub1.set_ylim([-3., 3.])\n",
    "sub1.set_xlim([-3., 3.])\n",
    "sub1.set_aspect('equal')\n",
    "sub1.set_xlabel(u'Data')\n",
    "plt.show()"
   ]
  },
  {
   "cell_type": "markdown",
   "metadata": {},
   "source": [
    "##### para. in scatter\n",
    "scatter(x, y, s, c, marker, cmap, norm, vmin, vmax, alpha, linewidths, verts, hold, **kwargs)\n",
    "http://matplotlib.org/api/pyplot_api.html"
   ]
  },
  {
   "cell_type": "code",
   "execution_count": null,
   "metadata": {
    "collapsed": true
   },
   "outputs": [],
   "source": [
    "plt.figure()\n",
    "plt.scatter(X[:, 0], X[:, 1], s=50, alpha=1, c=\"b\", zorder=1)  \n",
    "#s: size of points\n",
    "#alpha: transparency\n",
    "#zorder: the line with higher zorder will cover the lower\n",
    "plt.show()"
   ]
  }
 ],
 "metadata": {
  "anaconda-cloud": {},
  "kernelspec": {
   "display_name": "Python [default]",
   "language": "python",
   "name": "python2"
  },
  "language_info": {
   "codemirror_mode": {
    "name": "ipython",
    "version": 2
   },
   "file_extension": ".py",
   "mimetype": "text/x-python",
   "name": "python",
   "nbconvert_exporter": "python",
   "pygments_lexer": "ipython2",
   "version": "2.7.12"
  }
 },
 "nbformat": 4,
 "nbformat_minor": 0
}
