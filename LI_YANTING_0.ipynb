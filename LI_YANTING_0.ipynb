{
 "cells": [
  {
   "cell_type": "markdown",
   "metadata": {
    "collapsed": false
   },
   "source": [
    "#SD204  TP SVD-PCA"
   ]
  },
  {
   "cell_type": "markdown",
   "metadata": {},
   "source": [
    "###Exercice 1. Retour sur l’algèbre linéaire"
   ]
  },
  {
   "cell_type": "code",
   "execution_count": null,
   "metadata": {
    "collapsed": false
   },
   "outputs": [],
   "source": [
    "import numpy as np\n",
    "import scipy as sp\n",
    "import time\n",
    "import matplotlib.pyplot as plt\n",
    "from matplotlib.figure import Figure\n",
    "import os\n",
    "%matplotlib inline\n",
    "os.system('cls')\n",
    "plt.close()"
   ]
  },
  {
   "cell_type": "markdown",
   "metadata": {},
   "source": [
    "####(1)"
   ]
  },
  {
   "cell_type": "code",
   "execution_count": null,
   "metadata": {
    "collapsed": true
   },
   "outputs": [],
   "source": [
    "mu, sigma= 0, 2\n",
    "lam = 1e-5"
   ]
  },
  {
   "cell_type": "code",
   "execution_count": null,
   "metadata": {
    "collapsed": false
   },
   "outputs": [],
   "source": [
    "#(a)\n",
    "n, p = 100,2000\n",
    "X = sigma * np.random.randn(n,p) + mu  # X\n",
    "y = np.random.uniform(-1,1,n)          # y\n",
    "Id_n = np.identity(n)                  # Id_n\n",
    "Id_p = np.identity(p)                  # Id_p \n",
    "#c = np.add(a,b)\n",
    "#c = np.dot(a,b)\n",
    "#X_T = X.transpose()                    # X_T\n",
    "#X_i = np.linalg.solve(X,Id_n)          # X_-1\n",
    "left = np.dot(X.T,np.linalg.solve(np.add(np.dot(X,X.T),np.dot(lam,Id_n)),y))\n",
    "right = np.linalg.solve(np.add(np.dot(X.T,X),np.dot(lam,Id_p)),np.dot(X.T,y))\n",
    "result = np.allclose(left,right)\n",
    "print result\n",
    "# [the transpose of X: X.T]"
   ]
  },
  {
   "cell_type": "code",
   "execution_count": null,
   "metadata": {
    "collapsed": false
   },
   "outputs": [],
   "source": [
    "#(b)\n",
    "n, p = 2000,100\n",
    "X = sigma * np.random.randn(n,p) + mu  # X\n",
    "y = np.random.uniform(-1,1,n)          # y\n",
    "Id_n = np.identity(n)                  # Id_n\n",
    "Id_p = np.identity(p)                  # Id_p \n",
    "timeS = time.time()\n",
    "left = np.dot(X.T,np.linalg.solve(np.add(np.dot(X,X.T),np.dot(lam,Id_n)),y))\n",
    "timeE = time.time()\n",
    "timeL = timeE - timeS                  #the run time of the method on left (2)\n",
    "timeS = time.time()\n",
    "right = np.linalg.solve(np.add(np.dot(X.T,X),np.dot(lam,Id_p)),np.dot(X.T,y))\n",
    "timeE = time.time()\n",
    "timeR = timeE - timeS                  #the run time of the method on right (2)\n",
    "result = np.allclose(left,right)\n",
    "print result"
   ]
  },
  {
   "cell_type": "markdown",
   "metadata": {
    "collapsed": true
   },
   "source": [
    "À partir de ces resultats, on voit que l'équation suivante est vraie:\n",
    "$$X^T(XX^T+{\\lambda}Id_n)^{-1}y=(X^TX+{\\lambda}Id_p)^{-1}X^Ty$$\n",
    "####(2)  RESTE A TRAVAILLER\n",
    "Ici on compare le temps d'exécution de méthode gauche et méthode droite, selon la taille de n:"
   ]
  },
  {
   "cell_type": "code",
   "execution_count": null,
   "metadata": {
    "collapsed": false
   },
   "outputs": [],
   "source": [
    "print(\"Pour n = 2000, p = 100:\")\n",
    "print(\"Le temps d'exécution pour la méthode gauche est %f\" %timeL)\n",
    "print(\"Le temps d'exécution pour la méthode droite est %f\" %timeR)"
   ]
  },
  {
   "cell_type": "markdown",
   "metadata": {},
   "source": [
    "On voit que quand on utilise la dimention de 2000, le temps d'exécution est beaucoup plus grand que la dimention de 100. Donc on choisit l'une plus petite parmi n et p pour l’astuce du noyau."
   ]
  },
  {
   "cell_type": "markdown",
   "metadata": {},
   "source": [
    "###Exercice 2. Spectre de matrice aléatoire\n",
    "####(3)\n",
    "Pour cette question, la loi de poisson et la loi exponentielle sont choisies. Les moyennes sont mis nulle par moins 1 pour chaque élément dans une matrice comme ci-dessous:"
   ]
  },
  {
   "cell_type": "code",
   "execution_count": null,
   "metadata": {
    "collapsed": false
   },
   "outputs": [],
   "source": [
    "X_poi = np.random.poisson(1, size = (n,p)) - 1\n",
    "X_exp = np.random.exponential(1,size = (n,p)) - 1\n",
    "#shape: k = 4  scale: theata = 0.5\n",
    "#X_gam = np.random.gamma(shape = 4, scale = 0.5, size = (n,p)) -1"
   ]
  },
  {
   "cell_type": "markdown",
   "metadata": {},
   "source": [
    "####(4)"
   ]
  },
  {
   "cell_type": "code",
   "execution_count": null,
   "metadata": {
    "collapsed": false,
    "scrolled": true
   },
   "outputs": [],
   "source": [
    "n = 1000\n",
    "p_array = [200,500,1000,2000]\n",
    "'''\n",
    "figure,ax = plt.subplots(2, sharex = True)\n",
    "for p in p_array:\n",
    "    X_gam = np.random.gamma(shape = 4, scale = 0.5, size = (n,p)) - 2\n",
    "    s_gam = np.linalg.svd(X_gam, full_matrices=1,compute_uv=0)\n",
    "    ax[0].plot(s_gam)\n",
    "for p in p_array:\n",
    "    X_nor = np.random.randn(n,p)\n",
    "    s_nor = np.linalg.svd(X_nor, full_matrices=1,compute_uv=0)\n",
    "    ax[1].plot(s_nor)\n",
    "'''\n",
    "fig, axes = plt.subplots(2,1, sharex = True, figsize=(10,6))\n",
    "for p in p_array:\n",
    "    X_poi = np.random.poisson(1, size = (n,p)) - 1\n",
    "    s_poi = np.linalg.svd(X_poi, full_matrices=1,compute_uv=0)\n",
    "    axes[0].plot(s_poi)\n",
    "for p in p_array:\n",
    "    X_exp = np.random.exponential(1, size = (n,p)) - 1\n",
    "    s_exp = np.linalg.svd(X_exp, full_matrices=1,compute_uv=0)\n",
    "    axes[1].plot(s_exp)\n",
    "plt.show()"
   ]
  },
  {
   "cell_type": "markdown",
   "metadata": {
    "collapsed": false
   },
   "source": [
    "####(5) Valeurs propres"
   ]
  },
  {
   "cell_type": "code",
   "execution_count": null,
   "metadata": {
    "collapsed": false
   },
   "outputs": [],
   "source": [
    "fig, axes = plt.subplots(2,1, sharex = True, figsize=(10,6))\n",
    "for p in p_array:\n",
    "    X_poi = np.random.poisson(1, size = (n,p)) - 1\n",
    "    X = np.dot(X_poi.T,X_poi)/n\n",
    "    evals, evecs = np.linalg.eig(X)\n",
    "    axes[0].plot(evals)\n",
    "for p in p_array:\n",
    "    X_exp = np.random.exponential(1, size = (n,p)) - 1\n",
    "    X = np.dot(X_exp.T,X_exp)/n\n",
    "    evals, evecs = np.linalg.eig(X)\n",
    "    axes[1].plot(evals)\n",
    "plt.show()\n",
    "'''\n",
    "Question: I import np and sp, which both contains linalg, but why np.linalg, not sp.linalg?\n",
    "'''"
   ]
  },
  {
   "cell_type": "code",
   "execution_count": null,
   "metadata": {
    "collapsed": false
   },
   "outputs": [],
   "source": [
    "#a = np.ones(shape=(5,2))\n",
    "#a = np.matrix('1 2 3 4;5 6 7 8;9 8 7 6;5 4 3 2')     #<class 'numpy.matrixlib.defmatrix.matrix'>\n",
    "'''\n",
    "a = np.array([[1,2,3,4], \n",
    "              [5,6,7,8],\n",
    "              [9,8,7,6],\n",
    "              [5,4,3,2.]])   #<type 'numpy.ndarray'>\n",
    "evals, evecs = np.linalg.eig(a)\n",
    "print a.T*a/5\n",
    "print type(a.T*a/5)\n",
    "b = np.array([1,0,1,0])\n",
    "np.linalg.norm(b)\n",
    "c = np.ones((4,4))\n",
    "print np.subtract(a,c)\n",
    "'''\n",
    "X = np.random.randn(3,4)\n",
    "print X\n",
    "print X[]"
   ]
  },
  {
   "cell_type": "markdown",
   "metadata": {},
   "source": [
    "###Exercice 3. Méthode de la puissance itérée"
   ]
  },
  {
   "cell_type": "markdown",
   "metadata": {},
   "source": [
    "####(6)\n",
    "Pour la matrice $X \\in \\Bbb{R}^{p\\times{n}}$ , $u \\in \\Bbb{R}^{p\\times{1}}$ et $v \\in \\Bbb{R}^{n\\times{1}}$ sont choisis aléatoirement comme les vecteurs initiaux"
   ]
  },
  {
   "cell_type": "code",
   "execution_count": 108,
   "metadata": {
    "collapsed": false
   },
   "outputs": [
    {
     "ename": "SyntaxError",
     "evalue": "invalid syntax (<ipython-input-108-ead320cab45a>, line 8)",
     "output_type": "error",
     "traceback": [
      "\u001b[1;36m  File \u001b[1;32m\"<ipython-input-108-ead320cab45a>\"\u001b[1;36m, line \u001b[1;32m8\u001b[0m\n\u001b[1;33m    '''For question (7)'''\u001b[0m\n\u001b[1;37m                          \n^\u001b[0m\n\u001b[1;31mSyntaxError\u001b[0m\u001b[1;31m:\u001b[0m invalid syntax\n"
     ]
    }
   ],
   "source": [
    "'''\n",
    "mu, sigma= 0, 2\n",
    "n, p = 100,2000\n",
    "X = sigma * np.random.randn(p,n) + mu  \n",
    "n_iter = 1000        # le nombre maximal d’itérations\n",
    "u = np.random.randn(p,1)    # shape : (2000,1)\n",
    "v = np.random.randn(n,1)    # u, v vecteurs initiaux\n",
    "'''For question (7)'''\n",
    "u_SVD,s,v_SVD = np.linalg.svd(X, full_matrices=1,compute_uv=1)\n",
    "u_svd = u_SVD.T[0].reshape((p,1))               #u_SVD[0].shape: (2000,) Here we need (2000,1)\n",
    "v_svd = v_SVD[0].reshape((n,1))\n",
    "identi_u = np.zeros(n_iter)        #shape:(10000,) The norms of {u-u_SVD[0]}\n",
    "identi_v = np.zeros(n_iter)\n",
    "'''End'''\n",
    "for j in range(0,n_iter):\n",
    "    u = np.dot(X,v)\n",
    "    v = np.dot(X.T,u)\n",
    "    v = v * (1/np.linalg.norm(v))\n",
    "    u = u * (1/np.linalg.norm(u))\n",
    "    identi_u[j] = np.linalg.norm(np.subtract(u,u_svd))\n",
    "    identi_v[j] = np.linalg.norm(np.subtract(v,v_svd))\n",
    "'''"
   ]
  },
  {
   "cell_type": "markdown",
   "metadata": {},
   "source": [
    "####(7)\n",
    "Pour la question ci-dessous:<br>\n",
    "- u_SVD est la matrice obtenue par la méthode np.linalg.svd<br>\n",
    "- u&emsp;&emsp;&emsp;est le vecteur obtenu par la méthode de la puissance itérée"
   ]
  },
  {
   "cell_type": "code",
   "execution_count": 30,
   "metadata": {
    "collapsed": false
   },
   "outputs": [
    {
     "data": {
      "image/png": "[encoded data removed]",
      "text/plain": [
       "<matplotlib.figure.Figure at 0x7efec0680cd0>"
      ]
     },
     "metadata": {},
     "output_type": "display_data"
    }
   ],
   "source": [
    "'''\n",
    "fig, axes = plt.subplots(2,1, sharex = True, figsize=(8,8))\n",
    "axes[0].plot(identi_u)\n",
    "axes[1].plot(identi_v)\n",
    "plt.show()\n",
    "'''"
   ]
  },
  {
   "cell_type": "markdown",
   "metadata": {},
   "source": [
    "####(8)"
   ]
  },
  {
   "cell_type": "code",
   "execution_count": null,
   "metadata": {
    "collapsed": false
   },
   "outputs": [],
   "source": [
    "U = np.zeros((4,p))\n",
    "#U = [np.random.randn(p,1),np.ones((p,1)),np.arange(p),np.random.uniform(0,1,p)]\n",
    "#U[0].T =np.ones((p,1))  # shape : (2000,1)\n",
    "#V[0]   # u, v vecteurs initiaux\n",
    "print U[0].T.shape\n",
    "np.ones((p,1)).reshape((p,))\n",
    "print np.ones((p,1)).shape"
   ]
  },
  {
   "cell_type": "code",
   "execution_count": 90,
   "metadata": {
    "collapsed": false
   },
   "outputs": [],
   "source": [
    "def powerIteration(X,n_iter,u0,v0):\n",
    "    # Create new arrays to store the norms:\n",
    "    identi_u = np.zeros(n_iter)\n",
    "    identi_v = np.zeros(n_iter)\n",
    "    for j in range(0,n_iter):\n",
    "        u = np.dot(X,v0)\n",
    "        v = np.dot(X.T,u0)\n",
    "        u_uni = np.dot(u,(1/np.linalg.norm(u)))\n",
    "        v_uni = np.dot(v,(1/np.linalg.norm(v)))\n",
    "        #v = v * (1/np.linalg.norm(v))\n",
    "        #u = u * (1/np.linalg.norm(u))\n",
    "        identi_u[j] = np.linalg.norm(np.subtract(u,u_svd))\n",
    "        identi_v[j] = np.linalg.norm(np.subtract(v,v_svd))\n",
    "        u0,v0 = u,v"
   ]
  },
  {
   "cell_type": "code",
   "execution_count": 117,
   "metadata": {
    "collapsed": false
   },
   "outputs": [
    {
     "data": {
      "image/png": "[encoded data removed]",
      "text/plain": [
       "<matplotlib.figure.Figure at 0x7efec07d4cd0>"
      ]
     },
     "metadata": {},
     "output_type": "display_data"
    }
   ],
   "source": [
    "import numpy as np\n",
    "import scipy as sp\n",
    "import time\n",
    "import matplotlib.pyplot as plt\n",
    "from matplotlib.figure import Figure\n",
    "import os\n",
    "%matplotlib inline\n",
    "os.system('cls')\n",
    "plt.close()\n",
    "\n",
    "def powerIteration(X,n_iter,u0,v0):     #X: (p,n)\n",
    "    # Get the shape of matrix X:\n",
    "    p,n = X.shape[0],X.shape[1]         # X: (p*n) \n",
    "    # Get the decomposition of X:\n",
    "    u_SVD,s,v_SVD = np.linalg.svd(X, full_matrices=1,compute_uv=1)   #u_SVD:(p,p); v_SVD.T:(n,n)\n",
    "    # Reshape the singular vectors associated to the largest sigular value:\n",
    "    u_svd = u_SVD.T[0].reshape((p,1))\n",
    "    v_svd = v_SVD[0].reshape((n,1))\n",
    "    # Create new arrays to store the norms:\n",
    "    identi_u = np.zeros(n_iter)        #shape:(10000,) The norms of {u-u_SVD[0]}\n",
    "    identi_v = np.zeros(n_iter)\n",
    "    for j in range(0,n_iter):\n",
    "        u = np.dot(X,v0)\n",
    "        v = np.dot(X.T,u0)\n",
    "        u_uni = np.dot(u,(1/np.linalg.norm(u)))\n",
    "        v_uni = np.dot(v,(1/np.linalg.norm(v)))\n",
    "        identi_u[j] = np.linalg.norm(np.subtract(u_uni,u_svd))\n",
    "        identi_v[j] = np.linalg.norm(np.subtract(v_uni,v_svd))\n",
    "        u0,v0 = u_uni,v_uni\n",
    "    return identi_u,identi_v\n",
    "    \n",
    "\n",
    "mu, sigma= 0, 2\n",
    "n, p = 100,2000\n",
    "X = sigma * np.random.randn(p,n) + mu  \n",
    "n_iter = 1000        # le nombre maximal d’itérations\n",
    "#u = np.random.randn(p,1)    # shape : (2000,1)\n",
    "#v = np.random.randn(n,1)    # u, v vecteurs initiaux\n",
    "u = np.ones((p,1))\n",
    "v = np.ones((n,1))\n",
    "fig, axes = plt.subplots(2,1, sharex = True, figsize=(8,8))\n",
    "identi_u,identi_v = powerIteration(X,n_iter,u,v)\n",
    "axes[0].plot(identi_u)\n",
    "axes[1].plot(identi_v)\n",
    "plt.show()"
   ]
  },
  {
   "cell_type": "code",
   "execution_count": 93,
   "metadata": {
    "collapsed": false
   },
   "outputs": [
    {
     "name": "stdout",
     "output_type": "stream",
     "text": [
      "2000 100\n"
     ]
    }
   ],
   "source": [
    "import numpy as np\n",
    "import scipy as sp\n",
    "import time\n",
    "import matplotlib.pyplot as plt\n",
    "from matplotlib.figure import Figure\n",
    "import os\n",
    "%matplotlib inline\n",
    "os.system('cls')\n",
    "plt.close()\n",
    "\n",
    "mu, sigma= 0, 2\n",
    "n, p = 100,2000\n",
    "X = sigma * np.random.randn(p,n) + mu  \n",
    "p,n = X.shape[0],X.shape[1] \n",
    "print p,n"
   ]
  },
  {
   "cell_type": "code",
   "execution_count": 107,
   "metadata": {
    "collapsed": false
   },
   "outputs": [
    {
     "name": "stdout",
     "output_type": "stream",
     "text": [
      "1 2\n"
     ]
    }
   ],
   "source": [
    "u = 1\n",
    "v = 2\n",
    "u0,v0 = u,v\n",
    "print u0,v0"
   ]
  },
  {
   "cell_type": "code",
   "execution_count": null,
   "metadata": {
    "collapsed": true
   },
   "outputs": [],
   "source": []
  }
 ],
 "metadata": {
  "anaconda-cloud": {},
  "kernelspec": {
   "display_name": "Python 2",
   "language": "python",
   "name": "python2"
  },
  "language_info": {
   "codemirror_mode": {
    "name": "ipython",
    "version": 2
   },
   "file_extension": ".py",
   "mimetype": "text/x-python",
   "name": "python",
   "nbconvert_exporter": "python",
   "pygments_lexer": "ipython2",
   "version": "2.7.12"
  }
 },
 "nbformat": 4,
 "nbformat_minor": 0
}
