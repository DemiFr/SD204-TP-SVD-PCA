{
 "cells": [
  {
   "cell_type": "markdown",
   "metadata": {
    "collapsed": false
   },
   "source": [
    "#SD204  TP SVD-PCA"
   ]
  },
  {
   "cell_type": "markdown",
   "metadata": {},
   "source": [
    "###Exercice 1. Retour sur l’algèbre linéaire"
   ]
  },
  {
   "cell_type": "code",
   "execution_count": 62,
   "metadata": {
    "collapsed": false
   },
   "outputs": [],
   "source": [
    "import numpy as np\n",
    "import time\n",
    "import matplotlib.pyplot as plt\n",
    "from scipy.stats import t"
   ]
  },
  {
   "cell_type": "markdown",
   "metadata": {},
   "source": [
    "####(1)"
   ]
  },
  {
   "cell_type": "code",
   "execution_count": 63,
   "metadata": {
    "collapsed": true
   },
   "outputs": [],
   "source": [
    "mu, sigma= 0, 2\n",
    "lam = 1e-5"
   ]
  },
  {
   "cell_type": "code",
   "execution_count": 64,
   "metadata": {
    "collapsed": false
   },
   "outputs": [
    {
     "name": "stdout",
     "output_type": "stream",
     "text": [
      "True\n"
     ]
    }
   ],
   "source": [
    "#(a)\n",
    "n, p = 100,2000\n",
    "X = sigma * np.random.randn(n,p) + mu  # X\n",
    "y = np.random.uniform(-1,1,n)          # y\n",
    "Id_n = np.identity(n)                  # Id_n\n",
    "Id_p = np.identity(p)                  # Id_p \n",
    "#c = np.add(a,b)\n",
    "#c = np.dot(a,b)\n",
    "#X_T = X.transpose()                    # X_T\n",
    "#X_i = np.linalg.solve(X,Id_n)          # X_-1\n",
    "left = np.dot(X.T,np.linalg.solve(np.add(np.dot(X,X.T),np.dot(lam,Id_n)),y))\n",
    "right = np.linalg.solve(np.add(np.dot(X.T,X),np.dot(lam,Id_p)),np.dot(X.T,y))\n",
    "result = np.allclose(left,right)\n",
    "print result\n",
    "# [the transpose of X: X.T]"
   ]
  },
  {
   "cell_type": "code",
   "execution_count": 65,
   "metadata": {
    "collapsed": false
   },
   "outputs": [
    {
     "name": "stdout",
     "output_type": "stream",
     "text": [
      "False\n"
     ]
    }
   ],
   "source": [
    "#(b)\n",
    "n, p = 2000,100\n",
    "X = sigma * np.random.randn(n,p) + mu  # X\n",
    "y = np.random.uniform(-1,1,n)          # y\n",
    "Id_n = np.identity(n)                  # Id_n\n",
    "Id_p = np.identity(p)                  # Id_p \n",
    "timeS = time.time()\n",
    "left = np.dot(X.T,np.linalg.solve(np.add(np.dot(X,X.T),np.dot(lam,Id_n)),y))\n",
    "timeE = time.time()\n",
    "timeL = timeE - timeS                  #the run time of the method on left (2)\n",
    "timeS = time.time()\n",
    "right = np.linalg.solve(np.add(np.dot(X.T,X),np.dot(lam,Id_p)),np.dot(X.T,y))\n",
    "timeE = time.time()\n",
    "timeR = timeE - timeS                  #the run time of the method on right (2)\n",
    "result = np.allclose(left,right)\n",
    "print result"
   ]
  },
  {
   "cell_type": "markdown",
   "metadata": {
    "collapsed": true
   },
   "source": [
    "À partir de ces resultats, on voit que l'équation suivante est vraie:\n",
    "$$X^T(XX^T+{\\lambda}Id_n)^{-1}y=(X^TX+{\\lambda}Id_p)^{-1}X^Ty$$\n",
    "####(2)  RESTE A TRAVAILLER\n",
    "Ici on compare le temps d'exécution de méthode gauche et méthode droite, selon la taille de n:"
   ]
  },
  {
   "cell_type": "code",
   "execution_count": 66,
   "metadata": {
    "collapsed": false
   },
   "outputs": [
    {
     "name": "stdout",
     "output_type": "stream",
     "text": [
      "Pour n = 2000, p = 100:\n",
      "Le temps d'exécution pour la méthode gauche est 0.163461\n",
      "Le temps d'exécution pour la méthode droite est 0.000694\n"
     ]
    }
   ],
   "source": [
    "print(\"Pour n = 2000, p = 100:\")\n",
    "print(\"Le temps d'exécution pour la méthode gauche est %f\" %timeL)\n",
    "print(\"Le temps d'exécution pour la méthode droite est %f\" %timeR)"
   ]
  },
  {
   "cell_type": "markdown",
   "metadata": {},
   "source": [
    "On voit que quand on utilise la dimention de 2000, le temps d'exécution est beaucoup plus grand que la dimention de 100. Donc on choisit l'une plus petite parmi n et p pour l’astuce du noyau."
   ]
  },
  {
   "cell_type": "markdown",
   "metadata": {},
   "source": [
    "###Exercice 2. Spectre de matrice aléatoire\n",
    "####(3)\n",
    "Pour cette question, la loi de poisson et la loi exponentielle sont choisies. Les moyennes sont mis nulle par moins 1 pour chaque élément dans une matrice comme ci-dessous:"
   ]
  },
  {
   "cell_type": "code",
   "execution_count": 67,
   "metadata": {
    "collapsed": false
   },
   "outputs": [],
   "source": [
    "X_poi = np.random.poisson(1, size = (n,p)) - 1\n",
    "X_exp = np.random.exponential(1,size = (n,p)) - 1"
   ]
  },
  {
   "cell_type": "markdown",
   "metadata": {},
   "source": [
    "####(4)"
   ]
  },
  {
   "cell_type": "code",
   "execution_count": 68,
   "metadata": {
    "collapsed": false
   },
   "outputs": [
    {
     "data": {
      "text/plain": [
       "array([[ -7.90994084e-01-0.37387403j,   1.64439767e+00-0.10358974j,\n",
       "         -3.65742534e-01+0.09978018j,   7.02451770e-01+1.63423322j,\n",
       "         -2.53766747e-01+0.02241648j,  -4.27269579e-02-0.67782192j],\n",
       "       [ -2.64420524e-02+1.7188157j ,  -5.62602485e-01+1.6254197j ,\n",
       "          4.37512705e-01+1.07749152j,  -9.41554978e-01-0.10762585j,\n",
       "         -1.49027825e+00+0.68397185j,   1.06715114e+00+1.6016965j ],\n",
       "       [ -6.16996443e-04-0.03832058j,   1.84333095e+00+2.84403365j,\n",
       "          2.44385555e-01-0.04874714j,  -1.18014607e+00+0.66847601j,\n",
       "          6.73204127e-01-0.03480607j,  -2.03212098e+00+0.83879251j],\n",
       "       [  1.64588640e+00+1.24654758j,  -4.67001497e-01+1.89469695j,\n",
       "         -8.64095814e-01-0.0946952j ,   1.08509336e+00+0.81229796j,\n",
       "          3.31564529e-02+0.6019954j ,   1.35176307e+00-0.44229965j],\n",
       "       [  4.78763649e-01-0.12589407j,  -6.33788461e-01+0.33481825j,\n",
       "         -1.33294521e+00-0.77961418j,  -1.95943237e+00+1.22195857j,\n",
       "         -1.97056080e-01+0.05417439j,   1.30913573e+00+3.46794366j],\n",
       "       [  1.13353397e+00-0.85527936j,   4.44701375e-01+0.99283923j,\n",
       "          4.54423405e-01-0.57907898j,   2.04507178e+00-0.12251665j,\n",
       "         -9.43134341e-02-0.23810934j,  -1.34275070e+00-0.891694j  ],\n",
       "       [ -1.13838874e+00+1.06720562j,  -1.50283098e-01-0.86641411j,\n",
       "          4.95927168e-01-0.42432034j,   6.47274340e-01+1.33107656j,\n",
       "         -1.64848561e+00-0.00825033j,   3.14538702e-02-0.09270787j],\n",
       "       [ -1.35794663e-01+0.42127308j,   4.01147092e-01+2.30205264j,\n",
       "         -3.38299875e-01-0.91192751j,  -1.52625778e+00-1.55267258j,\n",
       "         -2.32413179e-01+0.22273418j,   4.99177841e-01+1.88388236j],\n",
       "       [  4.31301344e-01-0.55981901j,  -1.25409800e+00-1.59553183j,\n",
       "          7.69111223e-02+0.29607421j,   8.47851590e-01+0.15661568j,\n",
       "         -1.42682082e+00+0.78696181j,  -1.20973792e+00-0.40165576j]])"
      ]
     },
     "execution_count": 68,
     "metadata": {},
     "output_type": "execute_result"
    }
   ],
   "source": [
    "n = 1000\n",
    "p = [200,500,1000,2000]\n",
    "#for i in p\n",
    "a = np.random.randn(9, 6) + 1j*np.random.randn(9, 6)\n",
    "a"
   ]
  }
 ],
 "metadata": {
  "kernelspec": {
   "display_name": "Python 2",
   "language": "python",
   "name": "python2"
  },
  "language_info": {
   "codemirror_mode": {
    "name": "ipython",
    "version": 2
   },
   "file_extension": ".py",
   "mimetype": "text/x-python",
   "name": "python",
   "nbconvert_exporter": "python",
   "pygments_lexer": "ipython2",
   "version": "2.7.12"
  }
 },
 "nbformat": 4,
 "nbformat_minor": 0
}
