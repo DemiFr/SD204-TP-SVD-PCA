{
 "cells": [
  {
   "cell_type": "markdown",
   "metadata": {
    "collapsed": false
   },
   "source": [
    "#SD204  TP SVD-PCA"
   ]
  },
  {
   "cell_type": "markdown",
   "metadata": {},
   "source": [
    "###Exercice 1. Retour sur l’algèbre linéaire"
   ]
  },
  {
   "cell_type": "code",
   "execution_count": 173,
   "metadata": {
    "collapsed": false
   },
   "outputs": [],
   "source": [
    "import numpy as np\n",
    "import time\n",
    "import matplotlib.pyplot as plt\n",
    "import os\n",
    "#os.system('cls')"
   ]
  },
  {
   "cell_type": "markdown",
   "metadata": {},
   "source": [
    "####(1)"
   ]
  },
  {
   "cell_type": "code",
   "execution_count": 174,
   "metadata": {
    "collapsed": true
   },
   "outputs": [],
   "source": [
    "mu, sigma= 0, 2\n",
    "lam = 1e-5"
   ]
  },
  {
   "cell_type": "code",
   "execution_count": 175,
   "metadata": {
    "collapsed": false
   },
   "outputs": [
    {
     "name": "stdout",
     "output_type": "stream",
     "text": [
      "True\n"
     ]
    }
   ],
   "source": [
    "#(a)\n",
    "n, p = 100,2000\n",
    "X = sigma * np.random.randn(n,p) + mu  # X\n",
    "y = np.random.uniform(-1,1,n)          # y\n",
    "Id_n = np.identity(n)                  # Id_n\n",
    "Id_p = np.identity(p)                  # Id_p \n",
    "#c = np.add(a,b)\n",
    "#c = np.dot(a,b)\n",
    "#X_T = X.transpose()                    # X_T\n",
    "#X_i = np.linalg.solve(X,Id_n)          # X_-1\n",
    "left = np.dot(X.T,np.linalg.solve(np.add(np.dot(X,X.T),np.dot(lam,Id_n)),y))\n",
    "right = np.linalg.solve(np.add(np.dot(X.T,X),np.dot(lam,Id_p)),np.dot(X.T,y))\n",
    "result = np.allclose(left,right)\n",
    "print result\n",
    "# [the transpose of X: X.T]"
   ]
  },
  {
   "cell_type": "code",
   "execution_count": 176,
   "metadata": {
    "collapsed": false
   },
   "outputs": [
    {
     "name": "stdout",
     "output_type": "stream",
     "text": [
      "True\n"
     ]
    }
   ],
   "source": [
    "#(b)\n",
    "n, p = 2000,100\n",
    "X = sigma * np.random.randn(n,p) + mu  # X\n",
    "y = np.random.uniform(-1,1,n)          # y\n",
    "Id_n = np.identity(n)                  # Id_n\n",
    "Id_p = np.identity(p)                  # Id_p \n",
    "timeS = time.time()\n",
    "left = np.dot(X.T,np.linalg.solve(np.add(np.dot(X,X.T),np.dot(lam,Id_n)),y))\n",
    "timeE = time.time()\n",
    "timeL = timeE - timeS                  #the run time of the method on left (2)\n",
    "timeS = time.time()\n",
    "right = np.linalg.solve(np.add(np.dot(X.T,X),np.dot(lam,Id_p)),np.dot(X.T,y))\n",
    "timeE = time.time()\n",
    "timeR = timeE - timeS                  #the run time of the method on right (2)\n",
    "result = np.allclose(left,right)\n",
    "print result"
   ]
  },
  {
   "cell_type": "markdown",
   "metadata": {
    "collapsed": true
   },
   "source": [
    "À partir de ces resultats, on voit que l'équation suivante est vraie:\n",
    "$$X^T(XX^T+{\\lambda}Id_n)^{-1}y=(X^TX+{\\lambda}Id_p)^{-1}X^Ty$$\n",
    "####(2)  RESTE A TRAVAILLER\n",
    "Ici on compare le temps d'exécution de méthode gauche et méthode droite, selon la taille de n:"
   ]
  },
  {
   "cell_type": "code",
   "execution_count": 177,
   "metadata": {
    "collapsed": false
   },
   "outputs": [
    {
     "name": "stdout",
     "output_type": "stream",
     "text": [
      "Pour n = 2000, p = 100:\n",
      "Le temps d'exécution pour la méthode gauche est 0.406000\n",
      "Le temps d'exécution pour la méthode droite est 0.002000\n"
     ]
    }
   ],
   "source": [
    "print(\"Pour n = 2000, p = 100:\")\n",
    "print(\"Le temps d'exécution pour la méthode gauche est %f\" %timeL)\n",
    "print(\"Le temps d'exécution pour la méthode droite est %f\" %timeR)"
   ]
  },
  {
   "cell_type": "markdown",
   "metadata": {},
   "source": [
    "On voit que quand on utilise la dimention de 2000, le temps d'exécution est beaucoup plus grand que la dimention de 100. Donc on choisit l'une plus petite parmi n et p pour l’astuce du noyau."
   ]
  },
  {
   "cell_type": "markdown",
   "metadata": {},
   "source": [
    "###Exercice 2. Spectre de matrice aléatoire\n",
    "####(3)\n",
    "Pour cette question, la loi de poisson et la loi exponentielle sont choisies. Les moyennes sont mis nulle par moins 1 pour chaque élément dans une matrice comme ci-dessous:"
   ]
  },
  {
   "cell_type": "code",
   "execution_count": 178,
   "metadata": {
    "collapsed": false
   },
   "outputs": [],
   "source": [
    "X_poi = np.random.poisson(1, size = (n,p)) - 1\n",
    "X_exp = np.random.exponential(1,size = (n,p)) - 1"
   ]
  },
  {
   "cell_type": "markdown",
   "metadata": {},
   "source": [
    "####(4)"
   ]
  },
  {
   "cell_type": "code",
   "execution_count": 179,
   "metadata": {
    "collapsed": false,
    "scrolled": true
   },
   "outputs": [
    {
     "name": "stdout",
     "output_type": "stream",
     "text": [
      "[[1 0 0 0 2]\n",
      " [0 0 3 0 0]\n",
      " [0 0 0 0 0]\n",
      " [0 4 0 0 0]]\n",
      "<type 'numpy.ndarray'>\n"
     ]
    },
    {
     "data": {
      "text/plain": [
       "[<matplotlib.lines.Line2D at 0x7f4aac8>]"
      ]
     },
     "execution_count": 179,
     "metadata": {},
     "output_type": "execute_result"
    }
   ],
   "source": [
    "n = 1000\n",
    "p = [200,500,1000,2000]\n",
    "#for i in p\n",
    "a = np.matrix('1 0 0 0 2; 0 0 3 0 0; 0 0 0 0 0; 0 4 0 0 0')\n",
    "print a\n",
    "s= np.linalg.svd(a, full_matrices=1,compute_uv=0)\n",
    "print type(s)\n",
    "plt.plot([1,2,3,4])"
   ]
  },
  {
   "cell_type": "code",
   "execution_count": null,
   "metadata": {
    "collapsed": false
   },
   "outputs": [],
   "source": []
  }
 ],
 "metadata": {
  "kernelspec": {
   "display_name": "Python [default]",
   "language": "python",
   "name": "python2"
  },
  "language_info": {
   "codemirror_mode": {
    "name": "ipython",
    "version": 2
   },
   "file_extension": ".py",
   "mimetype": "text/x-python",
   "name": "python",
   "nbconvert_exporter": "python",
   "pygments_lexer": "ipython2",
   "version": "2.7.12"
  }
 },
 "nbformat": 4,
 "nbformat_minor": 0
}
