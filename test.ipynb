{
 "cells": [
  {
   "cell_type": "code",
   "execution_count": 19,
   "metadata": {
    "collapsed": false
   },
   "outputs": [
    {
     "name": "stdout",
     "output_type": "stream",
     "text": [
      "[[2 2]\n",
      " [3 6]]\n",
      "[[ 1.         -0.33333333]\n",
      " [-0.5         0.33333333]]\n"
     ]
    }
   ],
   "source": [
    "import numpy as np\n",
    "'''  '''\n",
    "a = [[1,2],\n",
    "     [3,4]]\n",
    "b = [[1,0],\n",
    "     [0,2]]\n",
    "c = np.add(a,b)\n",
    "\n",
    "y = np.random.uniform(-1,1,5)\n",
    "\n",
    "Id_2 = np.identity(2)\n",
    "solve = np.linalg.solve(np.add(a,b),Id_2)\n",
    "print c\n",
    "print solve"
   ]
  },
  {
   "cell_type": "code",
   "execution_count": null,
   "metadata": {
    "collapsed": true
   },
   "outputs": [],
   "source": []
  },
  {
   "cell_type": "code",
   "execution_count": null,
   "metadata": {
    "collapsed": true
   },
   "outputs": [],
   "source": []
  }
 ],
 "metadata": {
  "kernelspec": {
   "display_name": "Python 2",
   "language": "python",
   "name": "python2"
  },
  "language_info": {
   "codemirror_mode": {
    "name": "ipython",
    "version": 2
   },
   "file_extension": ".py",
   "mimetype": "text/x-python",
   "name": "python",
   "nbconvert_exporter": "python",
   "pygments_lexer": "ipython2",
   "version": "2.7.12"
  }
 },
 "nbformat": 4,
 "nbformat_minor": 0
}
